{
 "cells": [
  {
   "cell_type": "code",
   "execution_count": null,
   "metadata": {},
   "outputs": [
    {
     "name": "stdout",
     "output_type": "stream",
     "text": [
      "                                           school_name  average_math\n",
      "88                              Stuyvesant High School           754\n",
      "170                       Bronx High School of Science           714\n",
      "93                 Staten Island Technical High School           711\n",
      "365  Queens High School for the Sciences at York Co...           701\n",
      "68   High School for Mathematics, Science, and Engi...           683\n",
      "280                     Brooklyn Technical High School           682\n",
      "333                        Townsend Harris High School           680\n",
      "174  High School of American Studies at Lehman College           669\n",
      "0    New Explorations into Science, Technology and ...           657\n",
      "45                       Eleanor Roosevelt High School           641\n",
      "---\n",
      "                                           school_name  total_SAT\n",
      "88                              Stuyvesant High School       2144\n",
      "170                       Bronx High School of Science       2041\n",
      "93                 Staten Island Technical High School       2041\n",
      "174  High School of American Studies at Lehman College       2013\n",
      "333                        Townsend Harris High School       1981\n",
      "365  Queens High School for the Sciences at York Co...       1947\n",
      "5                       Bard High School Early College       1914\n",
      "280                     Brooklyn Technical High School       1896\n",
      "45                       Eleanor Roosevelt High School       1889\n",
      "68   High School for Mathematics, Science, and Engi...       1889\n",
      "---\n",
      "     borough  count     mean     std\n",
      "0  Manhattan     89  1340.13  230.29\n"
     ]
    }
   ],
   "source": [
    "import pandas as pd\n",
    "\n",
    "schools_df = pd.read_csv(\"dataset/schools.csv\")\n",
    "\n",
    "best_math_schools = schools_df[schools_df[\"average_math\"] > 640][\n",
    "    [\"school_name\", \"average_math\"]\n",
    "].sort_values(\"average_math\", ascending=False)\n",
    "print(best_math_schools)\n",
    "\n",
    "print(\"---\")\n",
    "\n",
    "schools_df[\"total_SAT\"] = (\n",
    "    schools_df[\"average_math\"]\n",
    "    + schools_df[\"average_reading\"]\n",
    "    + schools_df[\"average_writing\"]\n",
    ")\n",
    "best_10_schools = schools_df.sort_values(\"total_SAT\", ascending=False)[\n",
    "    [\"school_name\", \"total_SAT\"]\n",
    "].head(10)\n",
    "print(best_10_schools)\n",
    "\n",
    "print(\"---\")\n",
    "\n",
    "boroughs = (\n",
    "    schools_df.groupby(\"borough\")[\"total_SAT\"].agg([\"count\", \"mean\", \"std\"]).round(2)\n",
    ")\n",
    "largest_std_dev = boroughs[boroughs[\"std\"] == boroughs[\"std\"].max()]\n",
    "largest_std_dev = largest_std_dev.rename(\n",
    "    {\"count\": \"num_schools\", \"mean\": \"average_SAT\", \"std\": \"std_SAT\"}\n",
    ")\n",
    "largest_std_dev.reset_index(inplace=True)\n",
    "print(largest_std_dev)\n"
   ]
  }
 ],
 "metadata": {
  "kernelspec": {
   "display_name": "Python 3",
   "language": "python",
   "name": "python3"
  },
  "language_info": {
   "codemirror_mode": {
    "name": "ipython",
    "version": 3
   },
   "file_extension": ".py",
   "mimetype": "text/x-python",
   "name": "python",
   "nbconvert_exporter": "python",
   "pygments_lexer": "ipython3",
   "version": "3.12.7"
  }
 },
 "nbformat": 4,
 "nbformat_minor": 2
}
